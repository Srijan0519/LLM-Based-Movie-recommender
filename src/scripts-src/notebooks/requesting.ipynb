{
 "cells": [
  {
   "cell_type": "code",
   "execution_count": 5,
   "metadata": {},
   "outputs": [
    {
     "name": "stdout",
     "output_type": "stream",
     "text": [
      "Fetched 10000 movies.\n",
      "Fetched 10000 TV shows.\n",
      "Saving movies to ../../data/movies.json\n",
      "Saving TV shows to ../../data/tv_shows.json\n",
      "Data fetched and saved to ../data/movies.json and ../data/tv_shows.json\n"
     ]
    }
   ],
   "source": [
    "import requests\n",
    "import json\n",
    "import os\n",
    "\n",
    "# Your TMDb API key\n",
    "api_key = 'your key'\n",
    "\n",
    "# Base URL for TMDb API\n",
    "base_url = 'https://api.themoviedb.org/3'\n",
    "\n",
    "# Endpoints for movies and TV shows\n",
    "movie_endpoint = f'{base_url}/movie/popular'\n",
    "tv_endpoint = f'{base_url}/tv/popular'\n",
    "\n",
    "# Parameters for the API request\n",
    "params = {\n",
    "    'api_key': api_key,\n",
    "    'language': 'en-US',\n",
    "    'page': 1\n",
    "}\n",
    "\n",
    "# Function to fetch all pages of data\n",
    "def fetch_all_pages(endpoint, params):\n",
    "    all_results = []\n",
    "    page = 1\n",
    "    while True:\n",
    "        params['page'] = page\n",
    "        response = requests.get(endpoint, params=params)\n",
    "        data = response.json()\n",
    "        if 'results' not in data:\n",
    "            break\n",
    "        results = data['results']\n",
    "        if not results:\n",
    "            break\n",
    "        all_results.extend(results)\n",
    "        page += 1\n",
    "        if page > data['total_pages']:\n",
    "            break\n",
    "    return all_results\n",
    "\n",
    "# Fetch all popular movies\n",
    "movies = fetch_all_pages(movie_endpoint, params)\n",
    "print(f\"Fetched {len(movies)} movies.\")\n",
    "\n",
    "# Fetch all popular TV shows\n",
    "tv_shows = fetch_all_pages(tv_endpoint, params)\n",
    "print(f\"Fetched {len(tv_shows)} TV shows.\")\n",
    "\n",
    "# Define the directory to save the data\n",
    "data_dir = '../../data/'\n",
    "\n",
    "# Ensure the directory exists\n",
    "if not os.path.exists(data_dir):\n",
    "    print(f\"Creating directory: {data_dir}\")\n",
    "    os.makedirs(data_dir, exist_ok=True)\n",
    "\n",
    "# Save data to JSON files in the specified directory\n",
    "movies_path = os.path.join(data_dir, 'movies.json')\n",
    "tv_shows_path = os.path.join(data_dir, 'tv_shows.json')\n",
    "\n",
    "print(f\"Saving movies to {movies_path}\")\n",
    "with open(movies_path, 'w') as movie_file:\n",
    "    json.dump(movies, movie_file, indent=4)\n",
    "\n",
    "print(f\"Saving TV shows to {tv_shows_path}\")\n",
    "with open(tv_shows_path, 'w') as tv_file:\n",
    "    json.dump(tv_shows, tv_file, indent=4)\n",
    "\n",
    "print('Data fetched and saved to ../data/movies.json and ../data/tv_shows.json')\n"
   ]
  },
  {
   "cell_type": "code",
   "execution_count": null,
   "metadata": {},
   "outputs": [],
   "source": []
  }
 ],
 "metadata": {
  "kernelspec": {
   "display_name": "Python 3",
   "language": "python",
   "name": "python3"
  },
  "language_info": {
   "codemirror_mode": {
    "name": "ipython",
    "version": 3
   },
   "file_extension": ".py",
   "mimetype": "text/x-python",
   "name": "python",
   "nbconvert_exporter": "python",
   "pygments_lexer": "ipython3",
   "version": "3.12.2"
  }
 },
 "nbformat": 4,
 "nbformat_minor": 2
}
