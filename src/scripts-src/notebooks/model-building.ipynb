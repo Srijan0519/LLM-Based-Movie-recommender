{
 "cells": [
  {
   "cell_type": "code",
   "execution_count": 17,
   "metadata": {},
   "outputs": [
    {
     "name": "stderr",
     "output_type": "stream",
     "text": [
      "2024-07-18 12:40:36.238 Session state does not function when running a script without `streamlit run`\n"
     ]
    }
   ],
   "source": [
    "import pandas as pd\n",
    "import numpy as np\n",
    "import os\n",
    "import groq\n",
    "import streamlit as st\n",
    "\n",
    "# Load preprocessed data\n",
    "tv_df = pd.read_csv(\"C:/Users/Srijan/Movie-recommender-application/src/data/Preprocessed/tv_preprocessed.csv\")\n",
    "movies_df = pd.read_csv(\"C:/Users/Srijan/Movie-recommender-application/src/data/Preprocessed/movies_preprocessed.csv\")\n",
    "\n",
    "# Helper functions\n",
    "def filter_by_genre(df, genres):\n",
    "    return df[df['genre_names'].apply(lambda x: any(genre in x for genre in genres))]\n",
    "\n",
    "def filter_by_popularity(df, threshold):\n",
    "    return df[df['popularity'] >= threshold]\n",
    "\n",
    "groq.api_key = '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'\n",
    "\n",
    "def get_similar_overview(target_overview, candidates):\n",
    "    prompt = f\"Find the closest matching overviews to: {target_overview}\\n\\nCandidates:\\n\" + \"\\n\".join(candidates)\n",
    "    response = groq.Completion.create(\n",
    "        model=\"llama3-8b-8192\",\n",
    "        prompt=prompt,\n",
    "        max_tokens=1024\n",
    "    )\n",
    "    return response['choices'][0]['text'].strip().split('\\n')\n",
    "\n",
    "def recommend_movies(user_preferences, top_n=5):\n",
    "    # Layered filtering\n",
    "    filtered_tv_df = tv_df[\n",
    "        (tv_df['age_appropriate']) &\n",
    "        (tv_df['language'] == user_preferences['language']) &\n",
    "        (tv_df['popularity'] >= user_preferences['popularity_threshold'])\n",
    "    ]\n",
    "    filtered_tv_df = filter_by_genre(filtered_tv_df, user_preferences['genres'])\n",
    "    \n",
    "    filtered_movies_df = movies_df[\n",
    "        (movies_df['age_appropriate']) &\n",
    "        (movies_df['language'] == user_preferences['language']) &\n",
    "        (movies_df['popularity'] >= user_preferences['popularity_threshold'])\n",
    "    ]\n",
    "    filtered_movies_df = filter_by_genre(filtered_movies_df, user_preferences['genres'])\n",
    "    \n",
    "    # LLM-based similarity\n",
    "    favorite_series_overviews = tv_df[tv_df['name'].isin(user_preferences['favorite_series'])]['overview'].tolist()\n",
    "    movie_overviews = filtered_movies_df['overview'].tolist()\n",
    "    \n",
    "    similar_overviews = []\n",
    "    for target_overview in favorite_series_overviews:\n",
    "        similar_overviews += get_similar_overview(target_overview, movie_overviews)\n",
    "    \n",
    "    # Get top N recommendations\n",
    "    recommendations = filtered_movies_df[filtered_movies_df['overview'].isin(similar_overviews)].head(top_n)\n",
    "    return recommendations\n",
    "\n",
    "# Streamlit interface\n",
    "st.title('Movie Recommendation Based on TV Series Preferences')\n",
    "\n",
    "# User inputs\n",
    "user_language = st.selectbox('Select Language', tv_df['language'].unique())\n",
    "user_genres = st.multiselect('Select Genres', tv_df['genre_names'].explode().unique())\n",
    "user_popularity_threshold = st.slider('Select Popularity Threshold', 1, 10, 5)\n",
    "user_favorite_series = st.multiselect('Select Your Favorite TV Series', tv_df['name'].unique())\n",
    "\n",
    "if st.button('Recommend Movies'):\n",
    "    user_preferences = {\n",
    "        'language': user_language,\n",
    "        'genres': user_genres,\n",
    "        'popularity_threshold': user_popularity_threshold * 1000,  # Adjusting scale to match dataset\n",
    "        'favorite_series': user_favorite_series\n",
    "    }\n",
    "    recommendations = recommend_movies(user_preferences)\n",
    "    st.write(recommendations[['title', 'overview', 'genre_names', 'popularity']])\n"
   ]
  }
 ],
 "metadata": {
  "kernelspec": {
   "display_name": "Python 3",
   "language": "python",
   "name": "python3"
  },
  "language_info": {
   "codemirror_mode": {
    "name": "ipython",
    "version": 3
   },
   "file_extension": ".py",
   "mimetype": "text/x-python",
   "name": "python",
   "nbconvert_exporter": "python",
   "pygments_lexer": "ipython3",
   "version": "3.12.2"
  }
 },
 "nbformat": 4,
 "nbformat_minor": 2
}
