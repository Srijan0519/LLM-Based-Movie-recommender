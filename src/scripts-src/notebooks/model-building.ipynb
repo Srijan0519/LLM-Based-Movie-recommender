{
 "cells": [
  {
   "cell_type": "code",
   "execution_count": 10,
   "metadata": {},
   "outputs": [],
   "source": [
    "import pandas as pd\n",
    "import numpy as np\n",
    "import os\n",
    "\n",
    "import groq \n",
    "\n",
    "tv_df=pd.read_csv(\"C:/Users/Srijan/Movie-recommender-application/src/data/Preprocessed/tv_preprocessed.csv\")\n",
    "movies_df=pd.read_csv(\"C:/Users/Srijan/Movie-recommender-application/src/data/Preprocessed/movies_preprocessed.csv\")\n",
    "\n",
    "\n",
    "def filter_by_genre(df, genres):\n",
    "    return df[df['genre_names'].apply(lambda x: any(genre in x for genre in genres))]\n",
    "\n",
    "def filter_by_popularity(df, threshold):\n",
    "    return df[df['popularity'] >= threshold]\n",
    "\n",
    "groq.api_key = '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'\n",
    "\n",
    "def get_similar_overview(target_overview, candidates):\n",
    "    prompt = f\"Find the closest matching overviews to: {target_overview}\\n\\nCandidates:\\n\" + \"\\n\".join(candidates)\n",
    "    response = groq.Completion.create(\n",
    "        model=\"llama3-8b-8192\",\n",
    "        prompt=prompt,\n",
    "                max_tokens=1024\n",
    "    )\n",
    "    return response['choices'][0]['text'].strip().split('\\n')\n",
    "\n",
    "\n",
    "def recommend_movies(tv_series_title, user_preferences, top_n=5):\n",
    "    # Layered filtering\n",
    "    filtered_tv_df = tv_df[\n",
    "        (tv_df['age_appropriate']) &\n",
    "        (tv_df['language'] == user_preferences['language']) &\n",
    "        (tv_df['popularity'] >= user_preferences['popularity_threshold'])\n",
    "    ]\n",
    "    filtered_tv_df = filter_by_genre(filtered_tv_df, user_preferences['genres'])    \n",
    "    filtered_movies_df = movies_df[\n",
    "        (movies_df['age_appropriate']) &\n",
    "        (movies_df['language'] == user_preferences['language']) &\n",
    "        (movies_df['popularity'] >= user_preferences['popularity_threshold'])\n",
    "    ]\n",
    "    filtered_movies_df = filter_by_genre(filtered_movies_df, user_preferences['genres'])\n",
    "    \n",
    "    # LLM-based similarity\n",
    "    target_overview = tv_df[tv_df['name'] == tv_series_title]['overview'].values[0]\n",
    "    movie_overviews = filtered_movies_df['overview'].tolist()\n",
    "    similar_overviews = get_similar_overview(target_overview, movie_overviews)\n",
    "    \n",
    "    # Get top N recommendations\n",
    "    recommendations = filtered_movies_df[filtered_movies_df['overview'].isin(similar_overviews)].head(top_n)\n",
    "    return recommendations\n"
   ]
  }
 ],
 "metadata": {
  "kernelspec": {
   "display_name": "Python 3",
   "language": "python",
   "name": "python3"
  },
  "language_info": {
   "codemirror_mode": {
    "name": "ipython",
    "version": 3
   },
   "file_extension": ".py",
   "mimetype": "text/x-python",
   "name": "python",
   "nbconvert_exporter": "python",
   "pygments_lexer": "ipython3",
   "version": "3.12.2"
  }
 },
 "nbformat": 4,
 "nbformat_minor": 2
}
