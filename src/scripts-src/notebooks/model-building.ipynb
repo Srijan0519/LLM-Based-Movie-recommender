{
 "cells": [
  {
   "cell_type": "code",
   "execution_count": null,
   "metadata": {},
   "outputs": [],
   "source": [
    "def recommend_movies(tv_series_title, user_preferences, top_n=10):\n",
    "    # Layered filtering\n",
    "    filtered_tv_df = tv_df[\n",
    "        (tv_df['age_appropriate']) &\n",
    "        (tv_df['language'] == user_preferences['language']) &\n",
    "        (tv_df['popularity'] >= user_preferences['popularity_threshold'])\n",
    "    ]\n",
    "    filtered_tv_df = filter_by_genre(filtered_tv_df, user_preferences['genres'])\n",
    "    \n",
    "    filtered_movies_df = movies_df[\n",
    "        (movies_df['age_appropriate']) &\n",
    "        (movies_df['language'] == user_preferences['language']) &\n",
    "        (movies_df['popularity'] >= user_preferences['popularity_threshold'])\n",
    "    ]\n",
    "    filtered_movies_df = filter_by_genre(filtered_movies_df, user_preferences['genres'])\n",
    "    \n",
    "    # LLM-based similarity\n",
    "    target_overview = tv_df[tv_df['name'] == tv_series_title]['overview'].values[0]\n",
    "    movie_overviews = filtered_movies_df['overview'].tolist()\n",
    "    similar_overviews = get_similar_overview(target_overview, movie_overviews)\n",
    "    \n",
    "    # Get top N recommendations\n",
    "    recommendations = filtered_movies_df[filtered_movies_df['overview'].isin(similar_overviews)].head(top_n)\n",
    "    return recommendations\n"
   ]
  }
 ],
 "metadata": {
  "language_info": {
   "name": "python"
  }
 },
 "nbformat": 4,
 "nbformat_minor": 2
}
