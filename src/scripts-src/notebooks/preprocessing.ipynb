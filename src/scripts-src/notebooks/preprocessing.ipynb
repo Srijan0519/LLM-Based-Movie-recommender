{
 "cells": [
  {
   "cell_type": "code",
   "execution_count": 58,
   "metadata": {},
   "outputs": [],
   "source": [
    "import json\n",
    "import pandas as pd\n"
   ]
  },
  {
   "cell_type": "code",
   "execution_count": 62,
   "metadata": {},
   "outputs": [],
   "source": [
    "# Load JSON data\n",
    "with open('C:/Users/Srijan/Movie-recommender-application/src/data/movies.json', 'r') as file:\n",
    "    movies_data = json.load(file)\n",
    "\n",
    "with open('C:/Users/Srijan/Movie-recommender-application/src/data/tv_shows.json', 'r') as file:\n",
    "    tv_data = json.load(file)\n",
    "\n",
    "# Convert JSON data to a pandas DataFrame\n",
    "movies_df = pd.json_normalize(movies_data)\n",
    "tv_df=pd.json_normalize(tv_data)\n"
   ]
  },
  {
   "cell_type": "code",
   "execution_count": 63,
   "metadata": {},
   "outputs": [
    {
     "data": {
      "text/plain": [
       "Index(['adult', 'backdrop_path', 'id', 'origin_country', 'original_language',\n",
       "       'overview', 'popularity', 'poster_path', 'first_air_date', 'name',\n",
       "       'vote_average', 'vote_count', 'genre_names'],\n",
       "      dtype='object')"
      ]
     },
     "execution_count": 63,
     "metadata": {},
     "output_type": "execute_result"
    }
   ],
   "source": [
    "tv_df=tv_df.drop(columns=[\"genre_ids\",'original_name'])\n",
    "tv_df.columns"
   ]
  },
  {
   "cell_type": "code",
   "execution_count": 64,
   "metadata": {},
   "outputs": [
    {
     "data": {
      "text/html": [
       "<div>\n",
       "<style scoped>\n",
       "    .dataframe tbody tr th:only-of-type {\n",
       "        vertical-align: middle;\n",
       "    }\n",
       "\n",
       "    .dataframe tbody tr th {\n",
       "        vertical-align: top;\n",
       "    }\n",
       "\n",
       "    .dataframe thead th {\n",
       "        text-align: right;\n",
       "    }\n",
       "</style>\n",
       "<table border=\"1\" class=\"dataframe\">\n",
       "  <thead>\n",
       "    <tr style=\"text-align: right;\">\n",
       "      <th></th>\n",
       "      <th>adult</th>\n",
       "      <th>backdrop_path</th>\n",
       "      <th>id</th>\n",
       "      <th>origin_country</th>\n",
       "      <th>original_language</th>\n",
       "      <th>overview</th>\n",
       "      <th>popularity</th>\n",
       "      <th>poster_path</th>\n",
       "      <th>first_air_date</th>\n",
       "      <th>name</th>\n",
       "      <th>vote_average</th>\n",
       "      <th>vote_count</th>\n",
       "      <th>genre_names</th>\n",
       "    </tr>\n",
       "  </thead>\n",
       "  <tbody>\n",
       "    <tr>\n",
       "      <th>0</th>\n",
       "      <td>False</td>\n",
       "      <td>/w7oNyGaZ8Tz9LnAr0nf6dvKC968.jpg</td>\n",
       "      <td>6390</td>\n",
       "      <td>[GB]</td>\n",
       "      <td>en</td>\n",
       "      <td>The property show that helps prospective buyer...</td>\n",
       "      <td>2759.509</td>\n",
       "      <td>/ykSfW3rU7Th0VvrgB85nHvQZCAN.jpg</td>\n",
       "      <td>2002-10-14</td>\n",
       "      <td>Escape to the Country</td>\n",
       "      <td>4.864</td>\n",
       "      <td>22</td>\n",
       "      <td>[Unknown]</td>\n",
       "    </tr>\n",
       "    <tr>\n",
       "      <th>1</th>\n",
       "      <td>False</td>\n",
       "      <td>/7cqKGQMnNabzOpi7qaIgZvQ7NGV.jpg</td>\n",
       "      <td>76479</td>\n",
       "      <td>[US]</td>\n",
       "      <td>en</td>\n",
       "      <td>A group of vigilantes known informally as “The...</td>\n",
       "      <td>2947.075</td>\n",
       "      <td>/2zmTngn1tYC1AvfnrFLhxeD82hz.jpg</td>\n",
       "      <td>2019-07-25</td>\n",
       "      <td>The Boys</td>\n",
       "      <td>8.500</td>\n",
       "      <td>9997</td>\n",
       "      <td>[Unknown, Unknown]</td>\n",
       "    </tr>\n",
       "    <tr>\n",
       "      <th>2</th>\n",
       "      <td>False</td>\n",
       "      <td>/mZCq3ldk7hUIyDvfZIOvTrxPWYS.jpg</td>\n",
       "      <td>209374</td>\n",
       "      <td>[US]</td>\n",
       "      <td>es</td>\n",
       "      <td></td>\n",
       "      <td>2812.936</td>\n",
       "      <td>/6Gy1ReRZ9sK9g8TPXZGz7CcQvrV.jpg</td>\n",
       "      <td>2022-08-09</td>\n",
       "      <td>Top Chef VIP</td>\n",
       "      <td>5.444</td>\n",
       "      <td>9</td>\n",
       "      <td>[Unknown]</td>\n",
       "    </tr>\n",
       "    <tr>\n",
       "      <th>3</th>\n",
       "      <td>False</td>\n",
       "      <td>/p6OBqwbQTTxv7xdvjueHVZ8gLK5.jpg</td>\n",
       "      <td>2637</td>\n",
       "      <td>[GB]</td>\n",
       "      <td>en</td>\n",
       "      <td>Amateur chefs compete against each other by ho...</td>\n",
       "      <td>3539.203</td>\n",
       "      <td>/enFfviWZwnIKn9DhyMa7cXqKx6Q.jpg</td>\n",
       "      <td>2005-01-10</td>\n",
       "      <td>Come Dine with Me</td>\n",
       "      <td>4.800</td>\n",
       "      <td>29</td>\n",
       "      <td>[Unknown]</td>\n",
       "    </tr>\n",
       "    <tr>\n",
       "      <th>4</th>\n",
       "      <td>False</td>\n",
       "      <td>/3xVmBU66Ukp79BBKAbHMySSAqq3.jpg</td>\n",
       "      <td>242101</td>\n",
       "      <td>[PT]</td>\n",
       "      <td>pt</td>\n",
       "      <td>Cacau is an engaging saga of family secrets, c...</td>\n",
       "      <td>1486.499</td>\n",
       "      <td>/nNCFBKZ68fmr008moWSzLdu2mUP.jpg</td>\n",
       "      <td>2024-01-15</td>\n",
       "      <td>Cacau</td>\n",
       "      <td>5.500</td>\n",
       "      <td>8</td>\n",
       "      <td>[Drama]</td>\n",
       "    </tr>\n",
       "  </tbody>\n",
       "</table>\n",
       "</div>"
      ],
      "text/plain": [
       "   adult                     backdrop_path      id origin_country  \\\n",
       "0  False  /w7oNyGaZ8Tz9LnAr0nf6dvKC968.jpg    6390           [GB]   \n",
       "1  False  /7cqKGQMnNabzOpi7qaIgZvQ7NGV.jpg   76479           [US]   \n",
       "2  False  /mZCq3ldk7hUIyDvfZIOvTrxPWYS.jpg  209374           [US]   \n",
       "3  False  /p6OBqwbQTTxv7xdvjueHVZ8gLK5.jpg    2637           [GB]   \n",
       "4  False  /3xVmBU66Ukp79BBKAbHMySSAqq3.jpg  242101           [PT]   \n",
       "\n",
       "  original_language                                           overview  \\\n",
       "0                en  The property show that helps prospective buyer...   \n",
       "1                en  A group of vigilantes known informally as “The...   \n",
       "2                es                                                      \n",
       "3                en  Amateur chefs compete against each other by ho...   \n",
       "4                pt  Cacau is an engaging saga of family secrets, c...   \n",
       "\n",
       "   popularity                       poster_path first_air_date  \\\n",
       "0    2759.509  /ykSfW3rU7Th0VvrgB85nHvQZCAN.jpg     2002-10-14   \n",
       "1    2947.075  /2zmTngn1tYC1AvfnrFLhxeD82hz.jpg     2019-07-25   \n",
       "2    2812.936  /6Gy1ReRZ9sK9g8TPXZGz7CcQvrV.jpg     2022-08-09   \n",
       "3    3539.203  /enFfviWZwnIKn9DhyMa7cXqKx6Q.jpg     2005-01-10   \n",
       "4    1486.499  /nNCFBKZ68fmr008moWSzLdu2mUP.jpg     2024-01-15   \n",
       "\n",
       "                    name  vote_average  vote_count         genre_names  \n",
       "0  Escape to the Country         4.864          22           [Unknown]  \n",
       "1               The Boys         8.500        9997  [Unknown, Unknown]  \n",
       "2           Top Chef VIP         5.444           9           [Unknown]  \n",
       "3      Come Dine with Me         4.800          29           [Unknown]  \n",
       "4                  Cacau         5.500           8             [Drama]  "
      ]
     },
     "execution_count": 64,
     "metadata": {},
     "output_type": "execute_result"
    }
   ],
   "source": [
    "tv_df.head(5)"
   ]
  },
  {
   "cell_type": "code",
   "execution_count": 65,
   "metadata": {},
   "outputs": [
    {
     "data": {
      "text/plain": [
       "(400, 13)"
      ]
     },
     "execution_count": 65,
     "metadata": {},
     "output_type": "execute_result"
    }
   ],
   "source": [
    "tv_df.shape"
   ]
  },
  {
   "cell_type": "code",
   "execution_count": 66,
   "metadata": {},
   "outputs": [
    {
     "data": {
      "text/plain": [
       "Index(['adult', 'backdrop_path', 'id', 'original_language', 'overview',\n",
       "       'popularity', 'poster_path', 'release_date', 'title', 'vote_average',\n",
       "       'vote_count', 'genre_names'],\n",
       "      dtype='object')"
      ]
     },
     "execution_count": 66,
     "metadata": {},
     "output_type": "execute_result"
    }
   ],
   "source": [
    "movies_df=movies_df.drop(columns=[\"genre_ids\",'original_title','video'])\n",
    "movies_df.columns"
   ]
  },
  {
   "cell_type": "code",
   "execution_count": 67,
   "metadata": {},
   "outputs": [
    {
     "data": {
      "text/plain": [
       "(400, 12)"
      ]
     },
     "execution_count": 67,
     "metadata": {},
     "output_type": "execute_result"
    }
   ],
   "source": [
    "movies_df.shape"
   ]
  },
  {
   "cell_type": "code",
   "execution_count": 68,
   "metadata": {},
   "outputs": [
    {
     "data": {
      "text/html": [
       "<div>\n",
       "<style scoped>\n",
       "    .dataframe tbody tr th:only-of-type {\n",
       "        vertical-align: middle;\n",
       "    }\n",
       "\n",
       "    .dataframe tbody tr th {\n",
       "        vertical-align: top;\n",
       "    }\n",
       "\n",
       "    .dataframe thead th {\n",
       "        text-align: right;\n",
       "    }\n",
       "</style>\n",
       "<table border=\"1\" class=\"dataframe\">\n",
       "  <thead>\n",
       "    <tr style=\"text-align: right;\">\n",
       "      <th></th>\n",
       "      <th>adult</th>\n",
       "      <th>backdrop_path</th>\n",
       "      <th>id</th>\n",
       "      <th>original_language</th>\n",
       "      <th>overview</th>\n",
       "      <th>popularity</th>\n",
       "      <th>poster_path</th>\n",
       "      <th>release_date</th>\n",
       "      <th>title</th>\n",
       "      <th>vote_average</th>\n",
       "      <th>vote_count</th>\n",
       "      <th>genre_names</th>\n",
       "    </tr>\n",
       "  </thead>\n",
       "  <tbody>\n",
       "    <tr>\n",
       "      <th>0</th>\n",
       "      <td>False</td>\n",
       "      <td>/xg27NrXi7VXCGUr7MG75UqLl6Vg.jpg</td>\n",
       "      <td>1022789</td>\n",
       "      <td>en</td>\n",
       "      <td>Teenager Riley's mind headquarters is undergoi...</td>\n",
       "      <td>5571.077</td>\n",
       "      <td>/vpnVM9B6NMmQpWeZvzLvDESb2QY.jpg</td>\n",
       "      <td>2024-06-11</td>\n",
       "      <td>Inside Out 2</td>\n",
       "      <td>7.683</td>\n",
       "      <td>1943</td>\n",
       "      <td>[Animation, Family, Adventure, Comedy]</td>\n",
       "    </tr>\n",
       "    <tr>\n",
       "      <th>1</th>\n",
       "      <td>False</td>\n",
       "      <td>/fDmci71SMkfZM8RnCuXJVDPaSdE.jpg</td>\n",
       "      <td>519182</td>\n",
       "      <td>en</td>\n",
       "      <td>Gru and Lucy and their girls — Margo, Edith an...</td>\n",
       "      <td>4439.300</td>\n",
       "      <td>/3w84hCFJATpiCO5g8hpdWVPBbmq.jpg</td>\n",
       "      <td>2024-06-20</td>\n",
       "      <td>Despicable Me 4</td>\n",
       "      <td>7.392</td>\n",
       "      <td>338</td>\n",
       "      <td>[Animation, Family, Comedy, Action]</td>\n",
       "    </tr>\n",
       "    <tr>\n",
       "      <th>2</th>\n",
       "      <td>False</td>\n",
       "      <td>/Akv9GlCCMrzcDkVz4ad8MdLl9DK.jpg</td>\n",
       "      <td>748783</td>\n",
       "      <td>en</td>\n",
       "      <td>Garfield, the world-famous, Monday-hating, las...</td>\n",
       "      <td>2173.538</td>\n",
       "      <td>/p6AbOJvMQhBmffd0PIv0u8ghWeY.jpg</td>\n",
       "      <td>2024-04-30</td>\n",
       "      <td>The Garfield Movie</td>\n",
       "      <td>7.300</td>\n",
       "      <td>504</td>\n",
       "      <td>[Animation, Comedy, Family, Adventure]</td>\n",
       "    </tr>\n",
       "    <tr>\n",
       "      <th>3</th>\n",
       "      <td>False</td>\n",
       "      <td>/dn3gbDpXPSwC6saMJOHkCiFA9jn.jpg</td>\n",
       "      <td>974262</td>\n",
       "      <td>en</td>\n",
       "      <td>After the Queen of Hearts incites a coup on Au...</td>\n",
       "      <td>2030.613</td>\n",
       "      <td>/8fYluTtB3b3HKO7KQa5tzrvGaps.jpg</td>\n",
       "      <td>2024-07-11</td>\n",
       "      <td>Descendants: The Rise of Red</td>\n",
       "      <td>7.257</td>\n",
       "      <td>148</td>\n",
       "      <td>[Fantasy, Adventure, Family, Comedy]</td>\n",
       "    </tr>\n",
       "    <tr>\n",
       "      <th>4</th>\n",
       "      <td>False</td>\n",
       "      <td>/wNAhuOZ3Zf84jCIlrcI6JhgmY5q.jpg</td>\n",
       "      <td>786892</td>\n",
       "      <td>en</td>\n",
       "      <td>As the world fell, young Furiosa is snatched f...</td>\n",
       "      <td>1872.179</td>\n",
       "      <td>/iADOJ8Zymht2JPMoy3R7xceZprc.jpg</td>\n",
       "      <td>2024-05-22</td>\n",
       "      <td>Furiosa: A Mad Max Saga</td>\n",
       "      <td>7.650</td>\n",
       "      <td>2224</td>\n",
       "      <td>[Action, Adventure, Science Fiction]</td>\n",
       "    </tr>\n",
       "  </tbody>\n",
       "</table>\n",
       "</div>"
      ],
      "text/plain": [
       "   adult                     backdrop_path       id original_language  \\\n",
       "0  False  /xg27NrXi7VXCGUr7MG75UqLl6Vg.jpg  1022789                en   \n",
       "1  False  /fDmci71SMkfZM8RnCuXJVDPaSdE.jpg   519182                en   \n",
       "2  False  /Akv9GlCCMrzcDkVz4ad8MdLl9DK.jpg   748783                en   \n",
       "3  False  /dn3gbDpXPSwC6saMJOHkCiFA9jn.jpg   974262                en   \n",
       "4  False  /wNAhuOZ3Zf84jCIlrcI6JhgmY5q.jpg   786892                en   \n",
       "\n",
       "                                            overview  popularity  \\\n",
       "0  Teenager Riley's mind headquarters is undergoi...    5571.077   \n",
       "1  Gru and Lucy and their girls — Margo, Edith an...    4439.300   \n",
       "2  Garfield, the world-famous, Monday-hating, las...    2173.538   \n",
       "3  After the Queen of Hearts incites a coup on Au...    2030.613   \n",
       "4  As the world fell, young Furiosa is snatched f...    1872.179   \n",
       "\n",
       "                        poster_path release_date  \\\n",
       "0  /vpnVM9B6NMmQpWeZvzLvDESb2QY.jpg   2024-06-11   \n",
       "1  /3w84hCFJATpiCO5g8hpdWVPBbmq.jpg   2024-06-20   \n",
       "2  /p6AbOJvMQhBmffd0PIv0u8ghWeY.jpg   2024-04-30   \n",
       "3  /8fYluTtB3b3HKO7KQa5tzrvGaps.jpg   2024-07-11   \n",
       "4  /iADOJ8Zymht2JPMoy3R7xceZprc.jpg   2024-05-22   \n",
       "\n",
       "                          title  vote_average  vote_count  \\\n",
       "0                  Inside Out 2         7.683        1943   \n",
       "1               Despicable Me 4         7.392         338   \n",
       "2            The Garfield Movie         7.300         504   \n",
       "3  Descendants: The Rise of Red         7.257         148   \n",
       "4       Furiosa: A Mad Max Saga         7.650        2224   \n",
       "\n",
       "                              genre_names  \n",
       "0  [Animation, Family, Adventure, Comedy]  \n",
       "1     [Animation, Family, Comedy, Action]  \n",
       "2  [Animation, Comedy, Family, Adventure]  \n",
       "3    [Fantasy, Adventure, Family, Comedy]  \n",
       "4    [Action, Adventure, Science Fiction]  "
      ]
     },
     "execution_count": 68,
     "metadata": {},
     "output_type": "execute_result"
    }
   ],
   "source": [
    "movies_df.head(5)"
   ]
  },
  {
   "cell_type": "code",
   "execution_count": 69,
   "metadata": {},
   "outputs": [
    {
     "name": "stdout",
     "output_type": "stream",
     "text": [
      "In movies: \n",
      " original_language\n",
      "en    315\n",
      "ja     16\n",
      "ko     14\n",
      "fr     13\n",
      "es      8\n",
      "zh      7\n",
      "it      4\n",
      "hi      3\n",
      "ru      3\n",
      "de      2\n",
      "tl      2\n",
      "pl      2\n",
      "sv      2\n",
      "cn      2\n",
      "vi      2\n",
      "no      1\n",
      "th      1\n",
      "pt      1\n",
      "bn      1\n",
      "id      1\n",
      "Name: count, dtype: int64\n",
      "In TV: \n",
      " original_language\n",
      "en    323\n",
      "es     18\n",
      "hi      9\n",
      "ja      7\n",
      "fr      7\n",
      "pt      6\n",
      "de      5\n",
      "ko      5\n",
      "tl      4\n",
      "zh      4\n",
      "af      4\n",
      "nl      2\n",
      "cn      1\n",
      "it      1\n",
      "tr      1\n",
      "hu      1\n",
      "no      1\n",
      "pl      1\n",
      "Name: count, dtype: int64\n"
     ]
    }
   ],
   "source": [
    "print(\"In movies: \\n\",movies_df['original_language'].value_counts())\n",
    "print(\"In TV: \\n\",tv_df['original_language'].value_counts())"
   ]
  },
  {
   "cell_type": "code",
   "execution_count": 71,
   "metadata": {},
   "outputs": [
    {
     "data": {
      "text/html": [
       "<div>\n",
       "<style scoped>\n",
       "    .dataframe tbody tr th:only-of-type {\n",
       "        vertical-align: middle;\n",
       "    }\n",
       "\n",
       "    .dataframe tbody tr th {\n",
       "        vertical-align: top;\n",
       "    }\n",
       "\n",
       "    .dataframe thead th {\n",
       "        text-align: right;\n",
       "    }\n",
       "</style>\n",
       "<table border=\"1\" class=\"dataframe\">\n",
       "  <thead>\n",
       "    <tr style=\"text-align: right;\">\n",
       "      <th></th>\n",
       "      <th>original_language</th>\n",
       "      <th>Name</th>\n",
       "    </tr>\n",
       "  </thead>\n",
       "  <tbody>\n",
       "    <tr>\n",
       "      <th>0</th>\n",
       "      <td>af</td>\n",
       "      <td>Afrikaans</td>\n",
       "    </tr>\n",
       "    <tr>\n",
       "      <th>1</th>\n",
       "      <td>af-ZA</td>\n",
       "      <td>Afrikaans (South Africa)</td>\n",
       "    </tr>\n",
       "    <tr>\n",
       "      <th>2</th>\n",
       "      <td>ar</td>\n",
       "      <td>Arabic</td>\n",
       "    </tr>\n",
       "    <tr>\n",
       "      <th>3</th>\n",
       "      <td>ar-AE</td>\n",
       "      <td>Arabic (U.A.E.)</td>\n",
       "    </tr>\n",
       "    <tr>\n",
       "      <th>4</th>\n",
       "      <td>ar-BH</td>\n",
       "      <td>Arabic (Bahrain)</td>\n",
       "    </tr>\n",
       "  </tbody>\n",
       "</table>\n",
       "</div>"
      ],
      "text/plain": [
       "  original_language                      Name\n",
       "0                af                 Afrikaans\n",
       "1             af-ZA  Afrikaans (South Africa)\n",
       "2                ar                    Arabic\n",
       "3             ar-AE           Arabic (U.A.E.)\n",
       "4             ar-BH          Arabic (Bahrain)"
      ]
     },
     "execution_count": 71,
     "metadata": {},
     "output_type": "execute_result"
    }
   ],
   "source": [
    "language=pd.read_csv(\"C:/Users/Srijan/Movie-recommender-application/src/data/Lang-ISO.csv\")\n",
    "language.head()"
   ]
  },
  {
   "cell_type": "code",
   "execution_count": 72,
   "metadata": {},
   "outputs": [],
   "source": [
    "tv_df = pd.merge(tv_df, language, on='original_language', how='left')"
   ]
  },
  {
   "cell_type": "code",
   "execution_count": 73,
   "metadata": {},
   "outputs": [],
   "source": [
    "tv_df=tv_df.drop(columns=\"original_language\")"
   ]
  },
  {
   "cell_type": "code",
   "execution_count": 74,
   "metadata": {},
   "outputs": [
    {
     "data": {
      "text/plain": [
       "Index(['adult', 'backdrop_path', 'id', 'origin_country', 'overview',\n",
       "       'popularity', 'poster_path', 'first_air_date', 'name', 'vote_average',\n",
       "       'vote_count', 'genre_names', 'language'],\n",
       "      dtype='object')"
      ]
     },
     "execution_count": 74,
     "metadata": {},
     "output_type": "execute_result"
    }
   ],
   "source": [
    "tv_df=tv_df.rename(columns={'Name':'language'})\n",
    "tv_df.columns"
   ]
  },
  {
   "cell_type": "code",
   "execution_count": 75,
   "metadata": {},
   "outputs": [],
   "source": [
    "movies_df = pd.merge(movies_df, language, on='original_language', how='left')"
   ]
  },
  {
   "cell_type": "code",
   "execution_count": 76,
   "metadata": {},
   "outputs": [],
   "source": [
    "movies_df=movies_df.drop(columns=\"original_language\")"
   ]
  },
  {
   "cell_type": "code",
   "execution_count": 77,
   "metadata": {},
   "outputs": [
    {
     "data": {
      "text/plain": [
       "Index(['adult', 'backdrop_path', 'id', 'overview', 'popularity', 'poster_path',\n",
       "       'release_date', 'title', 'vote_average', 'vote_count', 'genre_names',\n",
       "       'language'],\n",
       "      dtype='object')"
      ]
     },
     "execution_count": 77,
     "metadata": {},
     "output_type": "execute_result"
    }
   ],
   "source": [
    "movies_df.rename(columns={'Name': 'language'}, inplace=True)\n",
    "movies_df.columns"
   ]
  },
  {
   "cell_type": "code",
   "execution_count": 78,
   "metadata": {},
   "outputs": [
    {
     "data": {
      "text/html": [
       "<div>\n",
       "<style scoped>\n",
       "    .dataframe tbody tr th:only-of-type {\n",
       "        vertical-align: middle;\n",
       "    }\n",
       "\n",
       "    .dataframe tbody tr th {\n",
       "        vertical-align: top;\n",
       "    }\n",
       "\n",
       "    .dataframe thead th {\n",
       "        text-align: right;\n",
       "    }\n",
       "</style>\n",
       "<table border=\"1\" class=\"dataframe\">\n",
       "  <thead>\n",
       "    <tr style=\"text-align: right;\">\n",
       "      <th></th>\n",
       "      <th>adult</th>\n",
       "      <th>backdrop_path</th>\n",
       "      <th>id</th>\n",
       "      <th>overview</th>\n",
       "      <th>popularity</th>\n",
       "      <th>poster_path</th>\n",
       "      <th>release_date</th>\n",
       "      <th>title</th>\n",
       "      <th>vote_average</th>\n",
       "      <th>vote_count</th>\n",
       "      <th>genre_names</th>\n",
       "      <th>language</th>\n",
       "    </tr>\n",
       "  </thead>\n",
       "  <tbody>\n",
       "    <tr>\n",
       "      <th>0</th>\n",
       "      <td>False</td>\n",
       "      <td>/xg27NrXi7VXCGUr7MG75UqLl6Vg.jpg</td>\n",
       "      <td>1022789</td>\n",
       "      <td>Teenager Riley's mind headquarters is undergoi...</td>\n",
       "      <td>5571.077</td>\n",
       "      <td>/vpnVM9B6NMmQpWeZvzLvDESb2QY.jpg</td>\n",
       "      <td>2024-06-11</td>\n",
       "      <td>Inside Out 2</td>\n",
       "      <td>7.683</td>\n",
       "      <td>1943</td>\n",
       "      <td>[Animation, Family, Adventure, Comedy]</td>\n",
       "      <td>English</td>\n",
       "    </tr>\n",
       "    <tr>\n",
       "      <th>1</th>\n",
       "      <td>False</td>\n",
       "      <td>/fDmci71SMkfZM8RnCuXJVDPaSdE.jpg</td>\n",
       "      <td>519182</td>\n",
       "      <td>Gru and Lucy and their girls — Margo, Edith an...</td>\n",
       "      <td>4439.300</td>\n",
       "      <td>/3w84hCFJATpiCO5g8hpdWVPBbmq.jpg</td>\n",
       "      <td>2024-06-20</td>\n",
       "      <td>Despicable Me 4</td>\n",
       "      <td>7.392</td>\n",
       "      <td>338</td>\n",
       "      <td>[Animation, Family, Comedy, Action]</td>\n",
       "      <td>English</td>\n",
       "    </tr>\n",
       "    <tr>\n",
       "      <th>2</th>\n",
       "      <td>False</td>\n",
       "      <td>/Akv9GlCCMrzcDkVz4ad8MdLl9DK.jpg</td>\n",
       "      <td>748783</td>\n",
       "      <td>Garfield, the world-famous, Monday-hating, las...</td>\n",
       "      <td>2173.538</td>\n",
       "      <td>/p6AbOJvMQhBmffd0PIv0u8ghWeY.jpg</td>\n",
       "      <td>2024-04-30</td>\n",
       "      <td>The Garfield Movie</td>\n",
       "      <td>7.300</td>\n",
       "      <td>504</td>\n",
       "      <td>[Animation, Comedy, Family, Adventure]</td>\n",
       "      <td>English</td>\n",
       "    </tr>\n",
       "    <tr>\n",
       "      <th>3</th>\n",
       "      <td>False</td>\n",
       "      <td>/dn3gbDpXPSwC6saMJOHkCiFA9jn.jpg</td>\n",
       "      <td>974262</td>\n",
       "      <td>After the Queen of Hearts incites a coup on Au...</td>\n",
       "      <td>2030.613</td>\n",
       "      <td>/8fYluTtB3b3HKO7KQa5tzrvGaps.jpg</td>\n",
       "      <td>2024-07-11</td>\n",
       "      <td>Descendants: The Rise of Red</td>\n",
       "      <td>7.257</td>\n",
       "      <td>148</td>\n",
       "      <td>[Fantasy, Adventure, Family, Comedy]</td>\n",
       "      <td>English</td>\n",
       "    </tr>\n",
       "    <tr>\n",
       "      <th>4</th>\n",
       "      <td>False</td>\n",
       "      <td>/wNAhuOZ3Zf84jCIlrcI6JhgmY5q.jpg</td>\n",
       "      <td>786892</td>\n",
       "      <td>As the world fell, young Furiosa is snatched f...</td>\n",
       "      <td>1872.179</td>\n",
       "      <td>/iADOJ8Zymht2JPMoy3R7xceZprc.jpg</td>\n",
       "      <td>2024-05-22</td>\n",
       "      <td>Furiosa: A Mad Max Saga</td>\n",
       "      <td>7.650</td>\n",
       "      <td>2224</td>\n",
       "      <td>[Action, Adventure, Science Fiction]</td>\n",
       "      <td>English</td>\n",
       "    </tr>\n",
       "  </tbody>\n",
       "</table>\n",
       "</div>"
      ],
      "text/plain": [
       "   adult                     backdrop_path       id  \\\n",
       "0  False  /xg27NrXi7VXCGUr7MG75UqLl6Vg.jpg  1022789   \n",
       "1  False  /fDmci71SMkfZM8RnCuXJVDPaSdE.jpg   519182   \n",
       "2  False  /Akv9GlCCMrzcDkVz4ad8MdLl9DK.jpg   748783   \n",
       "3  False  /dn3gbDpXPSwC6saMJOHkCiFA9jn.jpg   974262   \n",
       "4  False  /wNAhuOZ3Zf84jCIlrcI6JhgmY5q.jpg   786892   \n",
       "\n",
       "                                            overview  popularity  \\\n",
       "0  Teenager Riley's mind headquarters is undergoi...    5571.077   \n",
       "1  Gru and Lucy and their girls — Margo, Edith an...    4439.300   \n",
       "2  Garfield, the world-famous, Monday-hating, las...    2173.538   \n",
       "3  After the Queen of Hearts incites a coup on Au...    2030.613   \n",
       "4  As the world fell, young Furiosa is snatched f...    1872.179   \n",
       "\n",
       "                        poster_path release_date  \\\n",
       "0  /vpnVM9B6NMmQpWeZvzLvDESb2QY.jpg   2024-06-11   \n",
       "1  /3w84hCFJATpiCO5g8hpdWVPBbmq.jpg   2024-06-20   \n",
       "2  /p6AbOJvMQhBmffd0PIv0u8ghWeY.jpg   2024-04-30   \n",
       "3  /8fYluTtB3b3HKO7KQa5tzrvGaps.jpg   2024-07-11   \n",
       "4  /iADOJ8Zymht2JPMoy3R7xceZprc.jpg   2024-05-22   \n",
       "\n",
       "                          title  vote_average  vote_count  \\\n",
       "0                  Inside Out 2         7.683        1943   \n",
       "1               Despicable Me 4         7.392         338   \n",
       "2            The Garfield Movie         7.300         504   \n",
       "3  Descendants: The Rise of Red         7.257         148   \n",
       "4       Furiosa: A Mad Max Saga         7.650        2224   \n",
       "\n",
       "                              genre_names language  \n",
       "0  [Animation, Family, Adventure, Comedy]  English  \n",
       "1     [Animation, Family, Comedy, Action]  English  \n",
       "2  [Animation, Comedy, Family, Adventure]  English  \n",
       "3    [Fantasy, Adventure, Family, Comedy]  English  \n",
       "4    [Action, Adventure, Science Fiction]  English  "
      ]
     },
     "execution_count": 78,
     "metadata": {},
     "output_type": "execute_result"
    }
   ],
   "source": [
    "movies_df.head()"
   ]
  },
  {
   "cell_type": "code",
   "execution_count": 79,
   "metadata": {},
   "outputs": [],
   "source": [
    "from pathlib import Path \n",
    "filepath_movies = Path('C:/Users/Srijan/Movie-recommender-application/src/data/Preprocessed/movies_preprocessed.csv')  \n",
    "filepath_tv= Path(\"C:/Users/Srijan/Movie-recommender-application/src/data/Preprocessed/tv_preprocessed.csv\")\n",
    "movies_df.to_csv(filepath_movies)\n",
    "tv_df.to_csv(filepath_tv)"
   ]
  }
 ],
 "metadata": {
  "kernelspec": {
   "display_name": "Python 3",
   "language": "python",
   "name": "python3"
  },
  "language_info": {
   "codemirror_mode": {
    "name": "ipython",
    "version": 3
   },
   "file_extension": ".py",
   "mimetype": "text/x-python",
   "name": "python",
   "nbconvert_exporter": "python",
   "pygments_lexer": "ipython3",
   "version": "3.12.2"
  }
 },
 "nbformat": 4,
 "nbformat_minor": 2
}
